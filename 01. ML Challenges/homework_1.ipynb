{
  "cells": [
    {
      "cell_type": "markdown",
      "id": "VvFvjNBH3QY3",
      "metadata": {
        "id": "VvFvjNBH3QY3"
      },
      "source": [
        "## Домашнее задание"
      ]
    },
    {
      "cell_type": "markdown",
      "id": "F1nB_pZ53TLc",
      "metadata": {
        "id": "F1nB_pZ53TLc"
      },
      "source": [
        "В этой тетрадке вам предлагается реализовать задания при помощи библиотеки numpy. Крайне желательно при выполнении разных заданий не использовать циклы. Если вы не понимаете, как выполнить конкретную задачу без циклов - убирайте их постепенно, разбейте выполнение задачи на этапы и постепенно векторизуйте каждый этап.\n",
        "\n",
        "Если вам непонятно, как выполнить ту или иную операцию - не стесняйтесь гуглить, если над вами повис дедлайн, а вы всё ещё на чём-то застряли - пишите преподу/в чат, это ок.\n",
        "\n",
        "**Обсудить решение лучше и сделать в итоге хоть что-то гораздо лучше, чем скатать чужой код или сдать пустую тетрадку.**"
      ]
    },
    {
      "cell_type": "code",
      "execution_count": 95,
      "id": "BxCGcHcxyAwh",
      "metadata": {
        "id": "BxCGcHcxyAwh"
      },
      "outputs": [],
      "source": [
        "import numpy as np"
      ]
    },
    {
      "cell_type": "markdown",
      "id": "byY0Ab4Jww36",
      "metadata": {
        "id": "byY0Ab4Jww36"
      },
      "source": [
        "### Drill (1 балл)"
      ]
    },
    {
      "cell_type": "markdown",
      "id": "g9nrcP5ExLOr",
      "metadata": {
        "id": "g9nrcP5ExLOr"
      },
      "source": [
        "Задание 1.\n",
        "\n",
        "Инициализируйте нулями массивы следующих форм:\n",
        "\n",
        "* (5)\n",
        "* (5, 1)\n",
        "* (10, 2)\n",
        "* (3, 6, 2)\n",
        "* (4, 3, 2, 1)"
      ]
    },
    {
      "cell_type": "code",
      "execution_count": 96,
      "id": "GDFryOCFwwO5",
      "metadata": {
        "id": "GDFryOCFwwO5",
        "colab": {
          "base_uri": "https://localhost:8080/"
        },
        "outputId": "a7137ab8-c6fd-4ea9-b0bb-0676c00776d3"
      },
      "outputs": [
        {
          "output_type": "stream",
          "name": "stdout",
          "text": [
            "(5,) (5, 1) (10, 2) (3, 6, 2) (4, 3, 2, 1)\n"
          ]
        }
      ],
      "source": [
        "a = np.zeros((5, ))\n",
        "b = np.zeros((5, 1))\n",
        "c = np.zeros((10, 2))\n",
        "d = np.zeros((3, 6, 2))\n",
        "e = np.zeros((4, 3, 2, 1))\n",
        "print(a.shape, b.shape, c.shape, d.shape, e.shape)"
      ]
    },
    {
      "cell_type": "markdown",
      "id": "nB5ePY6S5AWx",
      "metadata": {
        "id": "nB5ePY6S5AWx"
      },
      "source": [
        "Задание 2.\n",
        "\n",
        "Инициализируйте единицами массивы таких же форм и приведите их к целочисленному виду:"
      ]
    },
    {
      "cell_type": "code",
      "execution_count": 97,
      "id": "bW7_oEBw5Ga8",
      "metadata": {
        "id": "bW7_oEBw5Ga8",
        "colab": {
          "base_uri": "https://localhost:8080/"
        },
        "outputId": "bfb72635-5630-4ced-a864-24f72c9700a7"
      },
      "outputs": [
        {
          "output_type": "stream",
          "name": "stdout",
          "text": [
            "int64 int64 int64 int64 int64\n"
          ]
        }
      ],
      "source": [
        "a = np.ones((5, ), dtype=int)\n",
        "b = np.ones((5, 1), dtype=int)\n",
        "c = np.ones((10, 2), dtype=int)\n",
        "d = np.ones((3, 6, 2), dtype=int)\n",
        "e = np.ones((4, 3, 2, 1), dtype=int)\n",
        "print(a.dtype, b.dtype, c.dtype, d.dtype, e.dtype)"
      ]
    },
    {
      "cell_type": "markdown",
      "id": "_S7FJFXexb3o",
      "metadata": {
        "id": "_S7FJFXexb3o"
      },
      "source": [
        "Задание 3.\n",
        "\n",
        "Выполните для векторов выше `reshape` в \"форму\"\n",
        "* с двумя компонентами\n",
        "* с тремя компонентами\n",
        "* с четырьмя компонентами"
      ]
    },
    {
      "cell_type": "code",
      "execution_count": 98,
      "id": "XDWmmsoYXBDP",
      "metadata": {
        "id": "XDWmmsoYXBDP",
        "colab": {
          "base_uri": "https://localhost:8080/"
        },
        "outputId": "0799c6df-0dbe-4066-8bd4-d5936d014308"
      },
      "outputs": [
        {
          "output_type": "stream",
          "name": "stdout",
          "text": [
            "2 компонента:\n",
            "(1, 5) (1, 5) (5, 4) (18, 2) (4, 6)\n",
            "3 компонента:\n",
            "(1, 1, 5) (1, 1, 5) (5, 2, 2) (9, 2, 2) (4, 3, 2)\n",
            "4 компонента:\n",
            "(1, 1, 5, 1) (1, 5, 1, 1) (5, 2, 2, 1) (3, 3, 2, 2) (2, 2, 3, 2)\n"
          ]
        }
      ],
      "source": [
        "# 2\n",
        "a = a.reshape((1, -1))\n",
        "b = b.reshape((-1, 5))\n",
        "c = c.reshape((5, 4))\n",
        "d = d.reshape((18, 2))\n",
        "e = e.reshape((4, 6))\n",
        "print(\"2 компонента:\")\n",
        "print(a.shape, b.shape, c.shape, d.shape, e.shape)\n",
        "\n",
        "# 3\n",
        "a = a.reshape((1, 1, -1))\n",
        "b = b.reshape((-1, 1, 5))\n",
        "c = c.reshape((5, 2, 2))\n",
        "d = d.reshape((9, 2, 2))\n",
        "e = e.reshape((4, 3, 2))\n",
        "print(\"3 компонента:\")\n",
        "print(a.shape, b.shape, c.shape, d.shape, e.shape)\n",
        "\n",
        "# 4\n",
        "a = a.reshape((1, -1, 5, 1))\n",
        "b = b.reshape((-1, 5, 1, 1))\n",
        "c = c.reshape((5, 2, 2, -1))\n",
        "d = d.reshape((3, 3, 2, 2))\n",
        "e = e.reshape((2, -1, 3, 2))\n",
        "print(\"4 компонента:\")\n",
        "print(a.shape, b.shape, c.shape, d.shape, e.shape)"
      ]
    },
    {
      "cell_type": "markdown",
      "id": "Kp3SvzHyxyPp",
      "metadata": {
        "id": "Kp3SvzHyxyPp"
      },
      "source": [
        "Задание 4.\n",
        "\n",
        "Для вектора ниже посчитайте его\n",
        "* Максимум по 1 оси\n",
        "* Минимум по 0 оси\n",
        "* Сумму по всем осям\n",
        "* Среднее по 0 оси\n",
        "* Медиану по 1 оси"
      ]
    },
    {
      "cell_type": "code",
      "execution_count": 99,
      "id": "5GcaTzGPx9Tk",
      "metadata": {
        "id": "5GcaTzGPx9Tk"
      },
      "outputs": [],
      "source": [
        "v = np.random.randint(0, 9, size=(5, 7))"
      ]
    },
    {
      "cell_type": "code",
      "execution_count": 100,
      "id": "iZT6E7esxsI1",
      "metadata": {
        "id": "iZT6E7esxsI1",
        "colab": {
          "base_uri": "https://localhost:8080/"
        },
        "outputId": "9a0e732f-1a8c-44bb-87fe-34626e34664b"
      },
      "outputs": [
        {
          "output_type": "stream",
          "name": "stdout",
          "text": [
            "[[2 0 1 1 5 5 2]\n",
            " [1 1 5 3 8 1 4]\n",
            " [0 7 5 5 3 5 5]\n",
            " [3 6 1 8 4 2 4]\n",
            " [0 6 0 8 8 4 8]]\n",
            "[3 7 5 8 8 5 8]\n",
            "[5 8 7 8 8]\n",
            "131\n",
            "[1.2 4.  2.4 5.  5.6 3.4 4.6]\n",
            "[2. 3. 5. 4. 6.]\n"
          ]
        }
      ],
      "source": [
        "max_axis_1 = v.max(axis=1)\n",
        "max_axis_0 = v.max(axis=0)\n",
        "overall_sum = v.sum()\n",
        "mean_axis_0 = v.mean(axis=0)\n",
        "median_axis_1 = np.median(v, axis=1)\n",
        "print(v)\n",
        "print(max_axis_0, max_axis_1, overall_sum, mean_axis_0, median_axis_1, sep='\\n')"
      ]
    },
    {
      "cell_type": "markdown",
      "id": "EiVqZFtpyOHm",
      "metadata": {
        "id": "EiVqZFtpyOHm"
      },
      "source": [
        "Задание 5.\n",
        "\n",
        "Для всё того же вектора `v` выведите\n",
        "* Его shape\n",
        "* 0 компоненту его \"формы\"\n",
        "* 1 компоненту его \"формы\""
      ]
    },
    {
      "cell_type": "code",
      "execution_count": 101,
      "id": "AazCPchWyYGa",
      "metadata": {
        "id": "AazCPchWyYGa",
        "colab": {
          "base_uri": "https://localhost:8080/"
        },
        "outputId": "bb2c25ad-06fd-4a48-86f4-81b5e0f946c9"
      },
      "outputs": [
        {
          "output_type": "stream",
          "name": "stdout",
          "text": [
            "(5, 7)\n",
            "5\n",
            "7\n"
          ]
        }
      ],
      "source": [
        "print(v.shape)\n",
        "print(v.shape[0])\n",
        "print(v.shape[1])"
      ]
    },
    {
      "cell_type": "markdown",
      "id": "9bdU9sq1ygiF",
      "metadata": {
        "id": "9bdU9sq1ygiF"
      },
      "source": [
        "Задание 6.\n",
        "\n",
        "Для этого же вектора выведите\n",
        "* Все числа больше 5\n",
        "* Все числа меньше 7 в обратном порядке\n",
        "* Все числа больше 3, которые делятся на 4 без остатка\n",
        "* Все числа, остаток от деления на 5 которых равен 3\n",
        "* Индекс максимума\n",
        "* Индекс минимума\n",
        "* Cписок с индексами элементов отсортированного массива в исходном (неотсортированном)"
      ]
    },
    {
      "cell_type": "code",
      "execution_count": 102,
      "id": "WW0nmIYwyfLA",
      "metadata": {
        "id": "WW0nmIYwyfLA",
        "colab": {
          "base_uri": "https://localhost:8080/"
        },
        "outputId": "4bec3ff4-32d9-4c52-9c21-68f192e64be7"
      },
      "outputs": [
        {
          "output_type": "stream",
          "name": "stdout",
          "text": [
            "[8 7 6 8 6 8 8 8]\n",
            "[4 0 6 0 4 2 4 1 6 3 5 5 3 5 5 0 4 1 3 5 1 1 2 5 5 1 1 0 2]\n",
            "[8 4 8 4 4 8 8 4 8]\n",
            "[3 8 3 3 8 8 8 8]\n",
            "[[1 4]\n",
            " [3 3]\n",
            " [4 3]\n",
            " [4 4]\n",
            " [4 6]]\n",
            "[[0 1]\n",
            " [2 0]\n",
            " [4 0]\n",
            " [4 2]]\n",
            "[[1 2 3 0 6 4 5]\n",
            " [0 1 5 3 6 2 4]\n",
            " [0 4 2 3 5 6 1]\n",
            " [2 5 0 4 6 1 3]\n",
            " [0 2 5 1 3 4 6]]\n"
          ]
        }
      ],
      "source": [
        "print(v[v > 5])\n",
        "print(v[v < 7][::-1])\n",
        "print(v[np.logical_and(v > 3,  v % 4 == 0)])\n",
        "print(v[v % 5 == 3])\n",
        "max_v = v.max()\n",
        "min_v = v.min()\n",
        "print(np.argwhere(v == max_v))\n",
        "print(np.argwhere(v == min_v))\n",
        "print(np.argsort(v))"
      ]
    },
    {
      "cell_type": "markdown",
      "id": "pd7gVNl9zN-s",
      "metadata": {
        "id": "pd7gVNl9zN-s"
      },
      "source": [
        "Задание 7.\n",
        "\n",
        "Выполните следующие операции над вектором (независимо, не обязательно делать это в последовательности):\n",
        "* Умножьте его на 3\n",
        "* Разделите на 7\n",
        "* Возведите в степень $\\frac{2}{3}$\n",
        "* Посчитайте $\\sin$ от него\n",
        "* Посчитайте $\\log$ от него"
      ]
    },
    {
      "cell_type": "code",
      "execution_count": 103,
      "id": "iTQeUeJ2zNkz",
      "metadata": {
        "id": "iTQeUeJ2zNkz",
        "colab": {
          "base_uri": "https://localhost:8080/"
        },
        "outputId": "a52f5d7a-3ed5-408b-cdae-bb1095859e20"
      },
      "outputs": [
        {
          "output_type": "stream",
          "name": "stdout",
          "text": [
            "[[ 6  0  3  3 15 15  6]\n",
            " [ 3  3 15  9 24  3 12]\n",
            " [ 0 21 15 15  9 15 15]\n",
            " [ 9 18  3 24 12  6 12]\n",
            " [ 0 18  0 24 24 12 24]]\n",
            "[[0.28571429 0.         0.14285714 0.14285714 0.71428571 0.71428571\n",
            "  0.28571429]\n",
            " [0.14285714 0.14285714 0.71428571 0.42857143 1.14285714 0.14285714\n",
            "  0.57142857]\n",
            " [0.         1.         0.71428571 0.71428571 0.42857143 0.71428571\n",
            "  0.71428571]\n",
            " [0.42857143 0.85714286 0.14285714 1.14285714 0.57142857 0.28571429\n",
            "  0.57142857]\n",
            " [0.         0.85714286 0.         1.14285714 1.14285714 0.57142857\n",
            "  1.14285714]]\n",
            "[[1.58740105 0.         1.         1.         2.92401774 2.92401774\n",
            "  1.58740105]\n",
            " [1.         1.         2.92401774 2.08008382 4.         1.\n",
            "  2.5198421 ]\n",
            " [0.         3.65930571 2.92401774 2.92401774 2.08008382 2.92401774\n",
            "  2.92401774]\n",
            " [2.08008382 3.30192725 1.         4.         2.5198421  1.58740105\n",
            "  2.5198421 ]\n",
            " [0.         3.30192725 0.         4.         4.         2.5198421\n",
            "  4.        ]]\n",
            "[[ 0.90929743  0.          0.84147098  0.84147098 -0.95892427 -0.95892427\n",
            "   0.90929743]\n",
            " [ 0.84147098  0.84147098 -0.95892427  0.14112001  0.98935825  0.84147098\n",
            "  -0.7568025 ]\n",
            " [ 0.          0.6569866  -0.95892427 -0.95892427  0.14112001 -0.95892427\n",
            "  -0.95892427]\n",
            " [ 0.14112001 -0.2794155   0.84147098  0.98935825 -0.7568025   0.90929743\n",
            "  -0.7568025 ]\n",
            " [ 0.         -0.2794155   0.          0.98935825  0.98935825 -0.7568025\n",
            "   0.98935825]]\n",
            "[[0.69314718       -inf 0.         0.         1.60943791 1.60943791\n",
            "  0.69314718]\n",
            " [0.         0.         1.60943791 1.09861229 2.07944154 0.\n",
            "  1.38629436]\n",
            " [      -inf 1.94591015 1.60943791 1.60943791 1.09861229 1.60943791\n",
            "  1.60943791]\n",
            " [1.09861229 1.79175947 0.         2.07944154 1.38629436 0.69314718\n",
            "  1.38629436]\n",
            " [      -inf 1.79175947       -inf 2.07944154 2.07944154 1.38629436\n",
            "  2.07944154]]\n"
          ]
        },
        {
          "output_type": "stream",
          "name": "stderr",
          "text": [
            "/usr/local/lib/python3.7/dist-packages/ipykernel_launcher.py:5: RuntimeWarning: divide by zero encountered in log\n",
            "  \"\"\"\n"
          ]
        }
      ],
      "source": [
        "print(v * 3)\n",
        "print(v / 7)\n",
        "print(v ** (2 / 3))\n",
        "print(np.sin(v))\n",
        "print(np.log(v))"
      ]
    },
    {
      "cell_type": "markdown",
      "id": "Njvzyat9w9Jw",
      "metadata": {
        "id": "Njvzyat9w9Jw"
      },
      "source": [
        "### Разные инициализации + индексирование (3 балла)"
      ]
    },
    {
      "cell_type": "markdown",
      "id": "IXB2M-hrB1C5",
      "metadata": {
        "id": "IXB2M-hrB1C5"
      },
      "source": [
        "Задание 8.\n",
        "\n",
        "Необходимо построить квадрат $3 \\times 3$ из нечётных чисел"
      ]
    },
    {
      "cell_type": "code",
      "execution_count": 104,
      "id": "0pnAlUNO8w1h",
      "metadata": {
        "id": "0pnAlUNO8w1h",
        "colab": {
          "base_uri": "https://localhost:8080/"
        },
        "outputId": "384815c3-28f2-47ed-8d22-2b0992e301f7"
      },
      "outputs": [
        {
          "output_type": "execute_result",
          "data": {
            "text/plain": [
              "array([[ 1,  3,  5],\n",
              "       [ 7,  9, 11],\n",
              "       [13, 15, 17]])"
            ]
          },
          "metadata": {},
          "execution_count": 104
        }
      ],
      "source": [
        "np.arange(1, 9 * 2, 2).reshape((3, 3))"
      ]
    },
    {
      "cell_type": "markdown",
      "id": "HmlcbwtOB5OT",
      "metadata": {
        "id": "HmlcbwtOB5OT"
      },
      "source": [
        "Задание 9.\n",
        "\n",
        "Необходимо построить квадрат $4 \\times 4$ из четных чисел в обратном порядке"
      ]
    },
    {
      "cell_type": "code",
      "execution_count": 105,
      "id": "W0lqLNBB81-U",
      "metadata": {
        "id": "W0lqLNBB81-U",
        "colab": {
          "base_uri": "https://localhost:8080/"
        },
        "outputId": "edc15394-0a4a-4524-8375-c909545d9421"
      },
      "outputs": [
        {
          "output_type": "execute_result",
          "data": {
            "text/plain": [
              "array([[32, 30, 28, 26],\n",
              "       [24, 22, 20, 18],\n",
              "       [16, 14, 12, 10],\n",
              "       [ 8,  6,  4,  2]])"
            ]
          },
          "metadata": {},
          "execution_count": 105
        }
      ],
      "source": [
        "np.arange(16 * 2, 1, -2).reshape((4, 4))"
      ]
    },
    {
      "cell_type": "markdown",
      "id": "IeOvIqrFB8zI",
      "metadata": {
        "id": "IeOvIqrFB8zI"
      },
      "source": [
        "Задание 10.\n",
        "\n",
        "Необходимо построить сетку координат $11 \\times 11$ с точкой $(0,0)$ в центре и шагом $0.1$ между клетками"
      ]
    },
    {
      "cell_type": "code",
      "execution_count": 106,
      "id": "gXTZFQzd84lY",
      "metadata": {
        "id": "gXTZFQzd84lY",
        "colab": {
          "base_uri": "https://localhost:8080/"
        },
        "outputId": "ee510078-c524-4be7-ac41-eedf74897b73"
      },
      "outputs": [
        {
          "output_type": "stream",
          "name": "stdout",
          "text": [
            "[[[-0.5 -0.5]\n",
            "  [-0.4 -0.5]\n",
            "  [-0.3 -0.5]\n",
            "  [-0.2 -0.5]\n",
            "  [-0.1 -0.5]\n",
            "  [ 0.  -0.5]\n",
            "  [ 0.1 -0.5]\n",
            "  [ 0.2 -0.5]\n",
            "  [ 0.3 -0.5]\n",
            "  [ 0.4 -0.5]\n",
            "  [ 0.5 -0.5]]\n",
            "\n",
            " [[-0.5 -0.4]\n",
            "  [-0.4 -0.4]\n",
            "  [-0.3 -0.4]\n",
            "  [-0.2 -0.4]\n",
            "  [-0.1 -0.4]\n",
            "  [ 0.  -0.4]\n",
            "  [ 0.1 -0.4]\n",
            "  [ 0.2 -0.4]\n",
            "  [ 0.3 -0.4]\n",
            "  [ 0.4 -0.4]\n",
            "  [ 0.5 -0.4]]\n",
            "\n",
            " [[-0.5 -0.3]\n",
            "  [-0.4 -0.3]\n",
            "  [-0.3 -0.3]\n",
            "  [-0.2 -0.3]\n",
            "  [-0.1 -0.3]\n",
            "  [ 0.  -0.3]\n",
            "  [ 0.1 -0.3]\n",
            "  [ 0.2 -0.3]\n",
            "  [ 0.3 -0.3]\n",
            "  [ 0.4 -0.3]\n",
            "  [ 0.5 -0.3]]\n",
            "\n",
            " [[-0.5 -0.2]\n",
            "  [-0.4 -0.2]\n",
            "  [-0.3 -0.2]\n",
            "  [-0.2 -0.2]\n",
            "  [-0.1 -0.2]\n",
            "  [ 0.  -0.2]\n",
            "  [ 0.1 -0.2]\n",
            "  [ 0.2 -0.2]\n",
            "  [ 0.3 -0.2]\n",
            "  [ 0.4 -0.2]\n",
            "  [ 0.5 -0.2]]\n",
            "\n",
            " [[-0.5 -0.1]\n",
            "  [-0.4 -0.1]\n",
            "  [-0.3 -0.1]\n",
            "  [-0.2 -0.1]\n",
            "  [-0.1 -0.1]\n",
            "  [ 0.  -0.1]\n",
            "  [ 0.1 -0.1]\n",
            "  [ 0.2 -0.1]\n",
            "  [ 0.3 -0.1]\n",
            "  [ 0.4 -0.1]\n",
            "  [ 0.5 -0.1]]\n",
            "\n",
            " [[-0.5  0. ]\n",
            "  [-0.4  0. ]\n",
            "  [-0.3  0. ]\n",
            "  [-0.2  0. ]\n",
            "  [-0.1  0. ]\n",
            "  [ 0.   0. ]\n",
            "  [ 0.1  0. ]\n",
            "  [ 0.2  0. ]\n",
            "  [ 0.3  0. ]\n",
            "  [ 0.4  0. ]\n",
            "  [ 0.5  0. ]]\n",
            "\n",
            " [[-0.5  0.1]\n",
            "  [-0.4  0.1]\n",
            "  [-0.3  0.1]\n",
            "  [-0.2  0.1]\n",
            "  [-0.1  0.1]\n",
            "  [ 0.   0.1]\n",
            "  [ 0.1  0.1]\n",
            "  [ 0.2  0.1]\n",
            "  [ 0.3  0.1]\n",
            "  [ 0.4  0.1]\n",
            "  [ 0.5  0.1]]\n",
            "\n",
            " [[-0.5  0.2]\n",
            "  [-0.4  0.2]\n",
            "  [-0.3  0.2]\n",
            "  [-0.2  0.2]\n",
            "  [-0.1  0.2]\n",
            "  [ 0.   0.2]\n",
            "  [ 0.1  0.2]\n",
            "  [ 0.2  0.2]\n",
            "  [ 0.3  0.2]\n",
            "  [ 0.4  0.2]\n",
            "  [ 0.5  0.2]]\n",
            "\n",
            " [[-0.5  0.3]\n",
            "  [-0.4  0.3]\n",
            "  [-0.3  0.3]\n",
            "  [-0.2  0.3]\n",
            "  [-0.1  0.3]\n",
            "  [ 0.   0.3]\n",
            "  [ 0.1  0.3]\n",
            "  [ 0.2  0.3]\n",
            "  [ 0.3  0.3]\n",
            "  [ 0.4  0.3]\n",
            "  [ 0.5  0.3]]\n",
            "\n",
            " [[-0.5  0.4]\n",
            "  [-0.4  0.4]\n",
            "  [-0.3  0.4]\n",
            "  [-0.2  0.4]\n",
            "  [-0.1  0.4]\n",
            "  [ 0.   0.4]\n",
            "  [ 0.1  0.4]\n",
            "  [ 0.2  0.4]\n",
            "  [ 0.3  0.4]\n",
            "  [ 0.4  0.4]\n",
            "  [ 0.5  0.4]]\n",
            "\n",
            " [[-0.5  0.5]\n",
            "  [-0.4  0.5]\n",
            "  [-0.3  0.5]\n",
            "  [-0.2  0.5]\n",
            "  [-0.1  0.5]\n",
            "  [ 0.   0.5]\n",
            "  [ 0.1  0.5]\n",
            "  [ 0.2  0.5]\n",
            "  [ 0.3  0.5]\n",
            "  [ 0.4  0.5]\n",
            "  [ 0.5  0.5]]]\n"
          ]
        }
      ],
      "source": [
        "v1 = np.linspace(-0.5, 0.5, 11)\n",
        "v2 = np.linspace(-0.5, 0.5, 11)\n",
        "coords = np.array(np.meshgrid(v1, v2, indexing=\"xy\")).transpose(1, 2, 0)\n",
        "print(coords)"
      ]
    },
    {
      "cell_type": "markdown",
      "id": "BQD_BNN-CqCm",
      "metadata": {
        "id": "BQD_BNN-CqCm"
      },
      "source": [
        "Задание 11.\n",
        "\n",
        "Замощение сетки $8\\times8$ при помощи $0$ и $1$ в шахматном порядке, клетка с индексом $(0,0)$ замощается $1$"
      ]
    },
    {
      "cell_type": "code",
      "execution_count": 107,
      "id": "whMdrRLx9G8Y",
      "metadata": {
        "id": "whMdrRLx9G8Y",
        "colab": {
          "base_uri": "https://localhost:8080/"
        },
        "outputId": "70d25c92-7bc6-49a5-cdc5-48c4cade8dd3"
      },
      "outputs": [
        {
          "output_type": "execute_result",
          "data": {
            "text/plain": [
              "array([[1, 0, 1, 0, 1, 0, 1, 0],\n",
              "       [0, 1, 0, 1, 0, 1, 0, 1],\n",
              "       [1, 0, 1, 0, 1, 0, 1, 0],\n",
              "       [0, 1, 0, 1, 0, 1, 0, 1],\n",
              "       [1, 0, 1, 0, 1, 0, 1, 0],\n",
              "       [0, 1, 0, 1, 0, 1, 0, 1],\n",
              "       [1, 0, 1, 0, 1, 0, 1, 0],\n",
              "       [0, 1, 0, 1, 0, 1, 0, 1]])"
            ]
          },
          "metadata": {},
          "execution_count": 107
        }
      ],
      "source": [
        "def checkmate(x, y):\n",
        "    return 1 - (x + y) % 2\n",
        "\n",
        "\n",
        "np.fromfunction(checkmate, (8, 8), dtype=int)"
      ]
    },
    {
      "cell_type": "markdown",
      "id": "5tl1is5hCxH7",
      "metadata": {
        "id": "5tl1is5hCxH7"
      },
      "source": [
        "Задание 12.\n",
        "\n",
        "То же замощение, но клетка с индексом $(0,0)$ замощается $0$"
      ]
    },
    {
      "cell_type": "code",
      "execution_count": 108,
      "id": "TP8Risy79TkG",
      "metadata": {
        "id": "TP8Risy79TkG",
        "colab": {
          "base_uri": "https://localhost:8080/"
        },
        "outputId": "3576a475-6235-470c-bd22-4a6576317b49"
      },
      "outputs": [
        {
          "output_type": "execute_result",
          "data": {
            "text/plain": [
              "array([[0, 1, 0, 1, 0, 1, 0, 1],\n",
              "       [1, 0, 1, 0, 1, 0, 1, 0],\n",
              "       [0, 1, 0, 1, 0, 1, 0, 1],\n",
              "       [1, 0, 1, 0, 1, 0, 1, 0],\n",
              "       [0, 1, 0, 1, 0, 1, 0, 1],\n",
              "       [1, 0, 1, 0, 1, 0, 1, 0],\n",
              "       [0, 1, 0, 1, 0, 1, 0, 1],\n",
              "       [1, 0, 1, 0, 1, 0, 1, 0]])"
            ]
          },
          "metadata": {},
          "execution_count": 108
        }
      ],
      "source": [
        "def checkmate(x, y):\n",
        "    return (x + y) % 2\n",
        "\n",
        "\n",
        "np.fromfunction(checkmate, (8, 8), dtype=int)"
      ]
    },
    {
      "cell_type": "markdown",
      "id": "xwut71HZC401",
      "metadata": {
        "id": "xwut71HZC401"
      },
      "source": [
        "Задание 13.\n",
        "\n",
        "Необходимо построить нижне-треугольную матрицу переменного размера (задается передачей параметра в функцию). Это единичная матрица,замощённая $1$ под главной диагональю"
      ]
    },
    {
      "cell_type": "code",
      "execution_count": 109,
      "id": "f819Rv2uxDOz",
      "metadata": {
        "id": "f819Rv2uxDOz",
        "colab": {
          "base_uri": "https://localhost:8080/"
        },
        "outputId": "ab0590fa-0a74-482a-99d0-4e584c86fb1a"
      },
      "outputs": [
        {
          "output_type": "execute_result",
          "data": {
            "text/plain": [
              "array([[1., 0., 0., 0., 0.],\n",
              "       [1., 1., 0., 0., 0.],\n",
              "       [1., 1., 1., 0., 0.],\n",
              "       [1., 1., 1., 1., 0.],\n",
              "       [1., 1., 1., 1., 1.]])"
            ]
          },
          "metadata": {},
          "execution_count": 109
        }
      ],
      "source": [
        "def lower_triangle(n):\n",
        "    return np.tril(np.ones((n, n)))\n",
        "\n",
        "lower_triangle(5)"
      ]
    },
    {
      "cell_type": "markdown",
      "id": "vhkgdaj3DGGr",
      "metadata": {
        "id": "vhkgdaj3DGGr"
      },
      "source": [
        "Задание 14.\n",
        "\n",
        "Необходимо построить верхне-треугольную матрицу переменного размера. Это единичная матрица, замощённая $1$ над главной диагональю"
      ]
    },
    {
      "cell_type": "code",
      "execution_count": 110,
      "id": "bwsDUhYT9kP0",
      "metadata": {
        "id": "bwsDUhYT9kP0",
        "colab": {
          "base_uri": "https://localhost:8080/"
        },
        "outputId": "af51c53f-3a5b-4f9a-cdc8-66545d55655d"
      },
      "outputs": [
        {
          "output_type": "execute_result",
          "data": {
            "text/plain": [
              "array([[1., 1., 1., 1., 1.],\n",
              "       [0., 1., 1., 1., 1.],\n",
              "       [0., 0., 1., 1., 1.],\n",
              "       [0., 0., 0., 1., 1.],\n",
              "       [0., 0., 0., 0., 1.]])"
            ]
          },
          "metadata": {},
          "execution_count": 110
        }
      ],
      "source": [
        "def upper_triangle(n):\n",
        "    return np.triu(np.ones((n, n)))\n",
        "\n",
        "upper_triangle(5)"
      ]
    },
    {
      "cell_type": "markdown",
      "id": "L2HbqtTjDM1a",
      "metadata": {
        "id": "L2HbqtTjDM1a"
      },
      "source": [
        "Задание 15.\n",
        "\n",
        "Необходимо построить матрицу, в которой единицы стоят на побочной диагонали (идущей из левого нижнего угла в правый верхний), в остальных местах стоят $0$"
      ]
    },
    {
      "cell_type": "code",
      "execution_count": 111,
      "id": "vM6ez-K69to2",
      "metadata": {
        "id": "vM6ez-K69to2",
        "colab": {
          "base_uri": "https://localhost:8080/"
        },
        "outputId": "e404396f-2e77-4bbe-d02d-bb92daf9465b"
      },
      "outputs": [
        {
          "output_type": "execute_result",
          "data": {
            "text/plain": [
              "array([[0., 0., 0., 0., 0., 0., 0., 0., 0., 1.],\n",
              "       [0., 0., 0., 0., 0., 0., 0., 0., 1., 0.],\n",
              "       [0., 0., 0., 0., 0., 0., 0., 1., 0., 0.],\n",
              "       [0., 0., 0., 0., 0., 0., 1., 0., 0., 0.],\n",
              "       [0., 0., 0., 0., 0., 1., 0., 0., 0., 0.],\n",
              "       [0., 0., 0., 0., 1., 0., 0., 0., 0., 0.],\n",
              "       [0., 0., 0., 1., 0., 0., 0., 0., 0., 0.],\n",
              "       [0., 0., 1., 0., 0., 0., 0., 0., 0., 0.],\n",
              "       [0., 1., 0., 0., 0., 0., 0., 0., 0., 0.],\n",
              "       [1., 0., 0., 0., 0., 0., 0., 0., 0., 0.]])"
            ]
          },
          "metadata": {},
          "execution_count": 111
        }
      ],
      "source": [
        "np.eye(10)[::-1]"
      ]
    },
    {
      "cell_type": "markdown",
      "id": "xeL6jav0w0U-",
      "metadata": {
        "id": "xeL6jav0w0U-"
      },
      "source": [
        "### Операции + аггрегации (3 балла)"
      ]
    },
    {
      "cell_type": "markdown",
      "id": "vOPIAFopHUKs",
      "metadata": {
        "id": "vOPIAFopHUKs"
      },
      "source": [
        "Задание 16.\n",
        "\n",
        "Дана выборка $\\{X_i\\}$ некоторой случайной величины $X$, необходимо оценить\n",
        "* Математическое ожидание $E[X] = \\frac{1}{N}\\sum_{i=1}^N X_i$ этой случайной величины\n",
        "* Дисперсию $D[X] = \\frac{1}{N}\\sum_{i=1}^N (X_i - E[X])^2$ этой случайной величины"
      ]
    },
    {
      "cell_type": "code",
      "execution_count": 112,
      "id": "uHQ-DiR4JB0p",
      "metadata": {
        "id": "uHQ-DiR4JB0p"
      },
      "outputs": [],
      "source": [
        "def expected_value(x):\n",
        "    assert len(x) > 0\n",
        "    return sum(x) / len(x)\n",
        "\n",
        "\n",
        "def dispersion(x):\n",
        "    assert len(x) > 0\n",
        "    d = 0\n",
        "    e = expected_value(x)\n",
        "    for x_i in x:\n",
        "        d += (x_i - e) ** 2\n",
        "    return d / len(x)"
      ]
    },
    {
      "cell_type": "code",
      "execution_count": 113,
      "id": "XVFo8hitHSav",
      "metadata": {
        "id": "XVFo8hitHSav"
      },
      "outputs": [],
      "source": [
        "def expected_value_np(x):\n",
        "    return x.mean()"
      ]
    },
    {
      "cell_type": "code",
      "execution_count": 114,
      "id": "f2jCC5EjJkl0",
      "metadata": {
        "id": "f2jCC5EjJkl0"
      },
      "outputs": [],
      "source": [
        "def dispersion_np(x):\n",
        "    return x.std() ** 2"
      ]
    },
    {
      "cell_type": "code",
      "execution_count": 115,
      "id": "dEGp_cuFJoX9",
      "metadata": {
        "id": "dEGp_cuFJoX9"
      },
      "outputs": [],
      "source": [
        "np.testing.assert_array_equal(expected_value([1]), expected_value_np(np.array([1])))\n",
        "np.testing.assert_array_equal(expected_value([3, 4]), expected_value_np(np.array([3, 4])))\n",
        "np.testing.assert_array_equal(expected_value([-1, 0, 1]), expected_value_np(np.array([-1, 0, 1])))\n",
        "np.testing.assert_array_equal(expected_value([-99, -98]), expected_value_np(np.array([-99, -98])))\n",
        "\n",
        "np.testing.assert_array_equal(dispersion([1]), dispersion_np(np.array([1])))\n",
        "np.testing.assert_array_equal(dispersion([3, 4]), dispersion_np(np.array([3, 4])))\n",
        "np.testing.assert_array_equal(dispersion([-1, 0, 1]), dispersion_np(np.array([-1, 0, 1])))\n",
        "np.testing.assert_array_equal(dispersion([-99, -98]), dispersion_np(np.array([-99, -98])))"
      ]
    },
    {
      "cell_type": "markdown",
      "id": "BO9aCDmYBf1R",
      "metadata": {
        "id": "BO9aCDmYBf1R"
      },
      "source": [
        "Задание 17.\n",
        "\n",
        "Даны два вектора $y_1$ и $y_2$, нужно посчитать среднее арифметическое квадратов разностей их значений"
      ]
    },
    {
      "cell_type": "code",
      "execution_count": 116,
      "id": "5ZgYjfj5KW4g",
      "metadata": {
        "id": "5ZgYjfj5KW4g"
      },
      "outputs": [],
      "source": [
        "def mean_square_difference(y1, y2):\n",
        "    assert len(y1) == len(y2) and len(y1) > 0\n",
        "    # Здесь и далее эти проверки !не нужно! дублировать в свои функции; Здесь они для того, чтобы лишний раз подчеркнуть валидность входных данных\n",
        "    s = 0\n",
        "    for i in range(len(y1)):\n",
        "        s += (y1[i] - y2[i]) ** 2\n",
        "    return s / len(y1)"
      ]
    },
    {
      "cell_type": "code",
      "execution_count": 117,
      "id": "r3kxTnLlw7dA",
      "metadata": {
        "id": "r3kxTnLlw7dA"
      },
      "outputs": [],
      "source": [
        "def mean_square_difference_np(y1, y2):\n",
        "    return np.mean((y1 - y2) ** 2)"
      ]
    },
    {
      "cell_type": "code",
      "execution_count": 118,
      "id": "CVuNT_iRKrFM",
      "metadata": {
        "id": "CVuNT_iRKrFM"
      },
      "outputs": [],
      "source": [
        "assert mean_square_difference([1], [1]) == mean_square_difference_np(np.array([1]), np.array([1]))\n",
        "assert mean_square_difference([1, 2], [1, 2]) == mean_square_difference_np(np.array([1, 2]), np.array([1, 2]))\n",
        "assert mean_square_difference([-1, 1], [0, 0]) == mean_square_difference_np(np.array([-1, 1]), np.array([0, 0]))\n",
        "assert mean_square_difference([-3, -2, 0, 1, 4], [-2, -2, -1, -1, 5]) == mean_square_difference_np(np.array([-3, -2, 0, 1, 4]), np.array([-2, -2, -1, -1, 5]))"
      ]
    },
    {
      "cell_type": "markdown",
      "id": "FlYEqBJuBeX_",
      "metadata": {
        "id": "FlYEqBJuBeX_"
      },
      "source": [
        "Задание 18.\n",
        "\n",
        "Даны два вектора $y_1$ и $y_2$, нужно посчитать среднее арифметическое модулей разностей их значений"
      ]
    },
    {
      "cell_type": "code",
      "execution_count": 119,
      "id": "YYFm_USNLR0g",
      "metadata": {
        "id": "YYFm_USNLR0g"
      },
      "outputs": [],
      "source": [
        "def mean_abs_difference(y1, y2):\n",
        "    assert len(y1) == len(y2) and len(y1) > 0\n",
        "    s = 0\n",
        "    for i in range(len(y1)):\n",
        "        s += abs(y1[i] - y2[i])\n",
        "    return s / len(y1)"
      ]
    },
    {
      "cell_type": "code",
      "execution_count": 120,
      "id": "YND9wAXGLSrU",
      "metadata": {
        "id": "YND9wAXGLSrU"
      },
      "outputs": [],
      "source": [
        "def mean_abs_difference_np(y1, y2):\n",
        "    return np.mean(np.abs(y1 - y2))"
      ]
    },
    {
      "cell_type": "code",
      "execution_count": 121,
      "id": "a6AVnlOp-N_E",
      "metadata": {
        "id": "a6AVnlOp-N_E"
      },
      "outputs": [],
      "source": [
        "assert mean_abs_difference([1], [1]) == mean_abs_difference_np(np.array([1]), np.array([1]))\n",
        "assert mean_abs_difference([1, 2], [1, 2]) == mean_abs_difference_np(np.array([1, 2]), np.array([1, 2]))\n",
        "assert mean_abs_difference([-1, 1], [0, 0]) == mean_abs_difference_np(np.array([-1, 1]), np.array([0, 0]))\n",
        "assert mean_abs_difference([-3, -2, 0, 1, 4], [-2, -2, -1, -1, 5]) == mean_abs_difference_np(np.array([-3, -2, 0, 1, 4]), np.array([-2, -2, -1, -1, 5]))"
      ]
    },
    {
      "cell_type": "markdown",
      "id": "MCJcY2TDBVX2",
      "metadata": {
        "id": "MCJcY2TDBVX2"
      },
      "source": [
        "Задание 19.\n",
        "\n",
        "Даны два вектора $y_1$ и $y_2$, в которых присутствуют только $0$ и $1$. Необходимо посчитать вероятность совпадения - в скольких точках значения двух векторов совпадают"
      ]
    },
    {
      "cell_type": "code",
      "execution_count": 122,
      "id": "MFRHNu3RLdAM",
      "metadata": {
        "id": "MFRHNu3RLdAM"
      },
      "outputs": [],
      "source": [
        "def matching_proba(y1, y2):\n",
        "    assert len(y1) == len(y2) and len(y1) > 0\n",
        "    assert len(set(y1)) <= 2\n",
        "    assert len(set(y2)) <= 2\n",
        "    assert 0 in set(y1) or 1 in set(y1) or (0 in set(y1) and 1 in set(y1))\n",
        "    assert 0 in set(y2) or 1 in set(y2) or (0 in set(y2) and 1 in set(y2))\n",
        "\n",
        "    return sum([y1[i] == y2[i] for i in range(len(y1))]) / len(y1)"
      ]
    },
    {
      "cell_type": "code",
      "execution_count": 123,
      "id": "C48P4bQBMnZQ",
      "metadata": {
        "id": "C48P4bQBMnZQ"
      },
      "outputs": [],
      "source": [
        "def matching_proba_np(y1, y2):\n",
        "    return np.mean(y1 == y2)"
      ]
    },
    {
      "cell_type": "code",
      "execution_count": 124,
      "id": "-DDiBxPEMZwu",
      "metadata": {
        "id": "-DDiBxPEMZwu"
      },
      "outputs": [],
      "source": [
        "np.testing.assert_array_equal(matching_proba([0, 1], [1, 0]), matching_proba_np(np.array([0, 1]), np.array([1, 0])))\n",
        "np.testing.assert_array_equal(matching_proba([0, 1, 0, 1], [0, 0, 1, 1]), matching_proba_np(np.array([0, 1, 0, 1]), np.array([0, 0, 1, 1])))\n",
        "np.testing.assert_array_equal(matching_proba([0, 0, 1, 1], [0, 0, 1, 1]), matching_proba_np(np.array([0, 0, 1, 1]), np.array([0, 0, 1, 1])))"
      ]
    },
    {
      "cell_type": "markdown",
      "id": "F_a98XRF_WnS",
      "metadata": {
        "id": "F_a98XRF_WnS"
      },
      "source": [
        "Задание 20.\n",
        "\n",
        "Даны два вектора: $y_1$, $y_2$. В $y_1$ и $y_2$ присутствуют только $0$ и $1$.\n",
        "\n",
        "Необходимо найти границы (индексы), такие, что если мы разделим вдоль какой-то из этих границ оба вектора на две части, то\n",
        "* в левой части пересекающихся в $y_1$ и $y_2$ нулей будет строго больше, чем пересекающихся единиц или непересекающихся элементов\n",
        "* в правой - пересекающихся единиц строго больше, чем пересекающихся нулей или непересекающихся элементов.\n",
        "\n",
        "Если какая-то из частей не содержит элементов вовсе, то будем считать, что она подходит под условие."
      ]
    },
    {
      "cell_type": "code",
      "execution_count": 125,
      "id": "b6FUo3G_NDge",
      "metadata": {
        "id": "b6FUo3G_NDge"
      },
      "outputs": [],
      "source": [
        "def find_thresholds(y1, y2, debug=False):\n",
        "    assert len(y1) == len(y2) and len(y1) > 0\n",
        "    n = len(y1)\n",
        "    matching_zeros = [1 if y1[i] == y2[i] == 0 else 0 for i in range(n)]\n",
        "    matching_ones = [1 if y1[i] == y2[i] == 1 else 0 for i in range(n)]\n",
        "    res = []\n",
        "    if sum(matching_ones) / n > 0.5:\n",
        "        res.append(0)\n",
        "    for i in range(1, n):\n",
        "        if debug: # если вам непонятна логика работы этой функции, передайте третьим аргументом True\n",
        "            print(matching_zeros[:i], matching_ones[i:], i)\n",
        "        if sum(matching_zeros[:i]) / i > 0.5 and sum(matching_ones[i:]) / (n - i) > 0.5:\n",
        "            res.append(i)\n",
        "    if sum(matching_zeros) / n > 0.5:\n",
        "        res.append(n)\n",
        "    return res"
      ]
    },
    {
      "cell_type": "code",
      "execution_count": 126,
      "id": "aD34QrPrReVK",
      "metadata": {
        "id": "aD34QrPrReVK"
      },
      "outputs": [],
      "source": [
        "def find_thresholds_np(y1, y2):\n",
        "    length = len(y1)\n",
        "    matching_zeros = np.logical_and(y1 == 0, y2 == 0)\n",
        "    matching_ones = np.logical_and(y1 == 1, y2 == 1)\n",
        "\n",
        "    # I can't believe they call it CUMSUM\n",
        "    reported_zeros = np.cumsum(matching_zeros) / np.arange(1, length + 1)\n",
        "    reported_zeros = np.insert(reported_zeros, 0, 1)\n",
        "\n",
        "    reported_ones = np.cumsum(matching_ones[::-1])[::-1] / np.arange(1, length + 1)[::-1]\n",
        "    reported_ones = np.append(reported_ones, 1)\n",
        "\n",
        "    res = np.logical_and(reported_zeros > 0.5, reported_ones > 0.5).nonzero()[0]\n",
        "    return res"
      ]
    },
    {
      "cell_type": "code",
      "execution_count": 127,
      "id": "oSSMaAp3PT-R",
      "metadata": {
        "id": "oSSMaAp3PT-R"
      },
      "outputs": [],
      "source": [
        "np.testing.assert_array_equal(find_thresholds([0], [0]), find_thresholds_np(np.array([0]), np.array([0])))\n",
        "np.testing.assert_array_equal(find_thresholds([1], [1]), find_thresholds_np(np.array([1]), np.array([1])))\n",
        "np.testing.assert_array_equal(\n",
        "    find_thresholds([0, 0, 1, 1], [0, 0, 1, 1]), \n",
        "    find_thresholds_np(np.array([0, 0, 1, 1]), np.array([0, 0, 1, 1]))\n",
        ")\n",
        "np.testing.assert_array_equal(\n",
        "    find_thresholds([0, 0, 1, 0, 0, 1, 1, 1], [0, 0, 0, 0, 0, 1, 1, 1]),\n",
        "    find_thresholds_np(np.array([0, 0, 1, 0, 0, 1, 1, 1]), np.array([0, 0, 0, 0, 0, 1, 1, 1]))\n",
        ")"
      ]
    },
    {
      "cell_type": "markdown",
      "id": "QzL-JrqmxD8s",
      "metadata": {
        "id": "QzL-JrqmxD8s"
      },
      "source": [
        "### Разные действия с матрицами (3 балла)"
      ]
    },
    {
      "cell_type": "markdown",
      "id": "8cRkht0DTyJm",
      "metadata": {
        "id": "8cRkht0DTyJm"
      },
      "source": [
        "Задание 21.\n",
        "\n",
        "Дана матрица размера $(32, 3, 16, 16)$, заполненная случайными числами от 0 до 9. При помощи **ровно двух** преобразований приведите её к виду $(32, 1)$. При выполнении задания **можно** создавать вспомогательные матрицы!"
      ]
    },
    {
      "cell_type": "code",
      "execution_count": 128,
      "id": "XiBftUkYUJHx",
      "metadata": {
        "id": "XiBftUkYUJHx"
      },
      "outputs": [],
      "source": [
        "data = np.random.randint(0, 10, size=(32, 3, 16, 16))\n",
        "helper = np.ones((3, 1))\n",
        "\n",
        "data = np.mean(data, axis=(2, 3))\n",
        "data = data @ helper\n",
        "\n",
        "assert data.shape == (32, 1)"
      ]
    },
    {
      "cell_type": "markdown",
      "id": "BlZrnx1TU3Oe",
      "metadata": {
        "id": "BlZrnx1TU3Oe"
      },
      "source": [
        "Задание 22.\n",
        "\n",
        "Даны две матрицы $m_1$ размером $(32, 256)$ и $m_2$ размером $(32, 512)$, а также две вспомогательные матрицы $W_1$ размером $(256, 32)$ и $W_2$ размером $(512, 16)$. Используя **все** данные матрицы, сделайте так, чтобы на выходе получилась **ровно одна** матрица размером $(32, 32)$"
      ]
    },
    {
      "cell_type": "code",
      "execution_count": 129,
      "id": "XiQOLjOgxENb",
      "metadata": {
        "id": "XiQOLjOgxENb"
      },
      "outputs": [],
      "source": [
        "m1 = np.random.randint(0, 10, size=(32, 256))\n",
        "m2 = np.random.randint(0, 10, size=(32, 512))\n",
        "W1 = np.random.randint(0, 10, size=(256, 32))\n",
        "W2 = np.random.randint(0, 10, size=(512, 16))\n",
        "\n",
        "result = (m2 @ W2) @ (m2 @ W2).T @ m1 @ W1\n",
        "\n",
        "assert result.shape == (32, 32)"
      ]
    },
    {
      "cell_type": "markdown",
      "id": "dGTtWMlOWSyr",
      "metadata": {
        "id": "dGTtWMlOWSyr"
      },
      "source": [
        "Задание 23.\n",
        "\n",
        "Приведите полученную на последнем шаге матрицу к виду $(32, 3)$ и сделайте так, чтобы все значения в этой матрице были в промежутке от $0$ до $1$"
      ]
    },
    {
      "cell_type": "code",
      "execution_count": 130,
      "id": "JM1Ngv6oWSZE",
      "metadata": {
        "id": "JM1Ngv6oWSZE"
      },
      "outputs": [],
      "source": [
        "# Вжух! (∩｀-´)⊃━☆ﾟ.*･｡ﾟ (ячейка находится в очереди на сжигание за ведьмовство)\n",
        "magical_helper = np.ones((32, 3))\n",
        "result = result @ magical_helper\n",
        "result = result / result.max()\n",
        "\n",
        "assert result.shape == (32, 3)\n",
        "assert ((result >= 0) & (result <= 1)).all()"
      ]
    }
  ],
  "metadata": {
    "colab": {
      "collapsed_sections": [],
      "name": "homework_1.ipynb",
      "provenance": []
    },
    "kernelspec": {
      "display_name": "Python 3",
      "language": "python",
      "name": "python3"
    },
    "language_info": {
      "codemirror_mode": {
        "name": "ipython",
        "version": 3
      },
      "file_extension": ".py",
      "mimetype": "text/x-python",
      "name": "python",
      "nbconvert_exporter": "python",
      "pygments_lexer": "ipython3",
      "version": "3.7.10"
    }
  },
  "nbformat": 4,
  "nbformat_minor": 5
}