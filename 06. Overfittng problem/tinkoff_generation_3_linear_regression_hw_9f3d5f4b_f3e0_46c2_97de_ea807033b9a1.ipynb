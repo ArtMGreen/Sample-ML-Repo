{
  "nbformat": 4,
  "nbformat_minor": 0,
  "metadata": {
    "colab": {
      "name": "tinkoff_generation_3_linear_regression_hw-9f3d5f4b-f3e0-46c2-97de-ea807033b9a1.ipynb",
      "provenance": [],
      "collapsed_sections": []
    },
    "kernelspec": {
      "display_name": "Python 3",
      "language": "python",
      "name": "python3"
    },
    "language_info": {
      "codemirror_mode": {
        "name": "ipython",
        "version": 3
      },
      "file_extension": ".py",
      "mimetype": "text/x-python",
      "name": "python",
      "nbconvert_exporter": "python",
      "pygments_lexer": "ipython3",
      "version": "3.7.3"
    }
  },
  "cells": [
    {
      "cell_type": "markdown",
      "metadata": {
        "id": "ymo3txVFu5qB"
      },
      "source": [
        "### (0 баллов) Считываем данные"
      ]
    },
    {
      "cell_type": "code",
      "metadata": {
        "id": "Yb2QHE2Su5qE"
      },
      "source": [
        "import numpy as np\n",
        "import pandas as pd\n",
        "from matplotlib import pyplot as plt\n",
        "%matplotlib inline"
      ],
      "execution_count": 153,
      "outputs": []
    },
    {
      "cell_type": "code",
      "metadata": {
        "id": "FMxbEARwu5qN",
        "scrolled": true,
        "outputId": "a7bfef77-9675-40cb-85db-b3a9d8445c3b",
        "colab": {
          "base_uri": "https://localhost:8080/"
        }
      },
      "source": [
        "from sklearn.datasets import load_boston\n",
        "\n",
        "dataset = load_boston()\n",
        "dataset.keys()"
      ],
      "execution_count": 154,
      "outputs": [
        {
          "output_type": "stream",
          "name": "stderr",
          "text": [
            "/usr/local/lib/python3.7/dist-packages/sklearn/utils/deprecation.py:87: FutureWarning: Function load_boston is deprecated; `load_boston` is deprecated in 1.0 and will be removed in 1.2.\n",
            "\n",
            "    The Boston housing prices dataset has an ethical problem. You can refer to\n",
            "    the documentation of this function for further details.\n",
            "\n",
            "    The scikit-learn maintainers therefore strongly discourage the use of this\n",
            "    dataset unless the purpose of the code is to study and educate about\n",
            "    ethical issues in data science and machine learning.\n",
            "\n",
            "    In this special case, you can fetch the dataset from the original\n",
            "    source::\n",
            "\n",
            "        import pandas as pd\n",
            "        import numpy as np\n",
            "\n",
            "\n",
            "        data_url = \"http://lib.stat.cmu.edu/datasets/boston\"\n",
            "        raw_df = pd.read_csv(data_url, sep=\"\\s+\", skiprows=22, header=None)\n",
            "        data = np.hstack([raw_df.values[::2, :], raw_df.values[1::2, :2]])\n",
            "        target = raw_df.values[1::2, 2]\n",
            "\n",
            "    Alternative datasets include the California housing dataset (i.e.\n",
            "    :func:`~sklearn.datasets.fetch_california_housing`) and the Ames housing\n",
            "    dataset. You can load the datasets as follows::\n",
            "\n",
            "        from sklearn.datasets import fetch_california_housing\n",
            "        housing = fetch_california_housing()\n",
            "\n",
            "    for the California housing dataset and::\n",
            "\n",
            "        from sklearn.datasets import fetch_openml\n",
            "        housing = fetch_openml(name=\"house_prices\", as_frame=True)\n",
            "\n",
            "    for the Ames housing dataset.\n",
            "    \n",
            "  warnings.warn(msg, category=FutureWarning)\n"
          ]
        },
        {
          "output_type": "execute_result",
          "data": {
            "text/plain": [
              "dict_keys(['data', 'target', 'feature_names', 'DESCR', 'filename', 'data_module'])"
            ]
          },
          "metadata": {},
          "execution_count": 154
        }
      ]
    },
    {
      "cell_type": "markdown",
      "metadata": {
        "id": "TsknjFrGu5qd"
      },
      "source": [
        "Каждая квартира имеет 13 признаков:"
      ]
    },
    {
      "cell_type": "code",
      "metadata": {
        "id": "7MxiIMnqu5qg",
        "outputId": "23dcbfdf-aba2-4c7d-b726-c8fead2812f8",
        "colab": {
          "base_uri": "https://localhost:8080/"
        }
      },
      "source": [
        "X = dataset['data']\n",
        "X[:10]"
      ],
      "execution_count": 155,
      "outputs": [
        {
          "output_type": "execute_result",
          "data": {
            "text/plain": [
              "array([[6.3200e-03, 1.8000e+01, 2.3100e+00, 0.0000e+00, 5.3800e-01,\n",
              "        6.5750e+00, 6.5200e+01, 4.0900e+00, 1.0000e+00, 2.9600e+02,\n",
              "        1.5300e+01, 3.9690e+02, 4.9800e+00],\n",
              "       [2.7310e-02, 0.0000e+00, 7.0700e+00, 0.0000e+00, 4.6900e-01,\n",
              "        6.4210e+00, 7.8900e+01, 4.9671e+00, 2.0000e+00, 2.4200e+02,\n",
              "        1.7800e+01, 3.9690e+02, 9.1400e+00],\n",
              "       [2.7290e-02, 0.0000e+00, 7.0700e+00, 0.0000e+00, 4.6900e-01,\n",
              "        7.1850e+00, 6.1100e+01, 4.9671e+00, 2.0000e+00, 2.4200e+02,\n",
              "        1.7800e+01, 3.9283e+02, 4.0300e+00],\n",
              "       [3.2370e-02, 0.0000e+00, 2.1800e+00, 0.0000e+00, 4.5800e-01,\n",
              "        6.9980e+00, 4.5800e+01, 6.0622e+00, 3.0000e+00, 2.2200e+02,\n",
              "        1.8700e+01, 3.9463e+02, 2.9400e+00],\n",
              "       [6.9050e-02, 0.0000e+00, 2.1800e+00, 0.0000e+00, 4.5800e-01,\n",
              "        7.1470e+00, 5.4200e+01, 6.0622e+00, 3.0000e+00, 2.2200e+02,\n",
              "        1.8700e+01, 3.9690e+02, 5.3300e+00],\n",
              "       [2.9850e-02, 0.0000e+00, 2.1800e+00, 0.0000e+00, 4.5800e-01,\n",
              "        6.4300e+00, 5.8700e+01, 6.0622e+00, 3.0000e+00, 2.2200e+02,\n",
              "        1.8700e+01, 3.9412e+02, 5.2100e+00],\n",
              "       [8.8290e-02, 1.2500e+01, 7.8700e+00, 0.0000e+00, 5.2400e-01,\n",
              "        6.0120e+00, 6.6600e+01, 5.5605e+00, 5.0000e+00, 3.1100e+02,\n",
              "        1.5200e+01, 3.9560e+02, 1.2430e+01],\n",
              "       [1.4455e-01, 1.2500e+01, 7.8700e+00, 0.0000e+00, 5.2400e-01,\n",
              "        6.1720e+00, 9.6100e+01, 5.9505e+00, 5.0000e+00, 3.1100e+02,\n",
              "        1.5200e+01, 3.9690e+02, 1.9150e+01],\n",
              "       [2.1124e-01, 1.2500e+01, 7.8700e+00, 0.0000e+00, 5.2400e-01,\n",
              "        5.6310e+00, 1.0000e+02, 6.0821e+00, 5.0000e+00, 3.1100e+02,\n",
              "        1.5200e+01, 3.8663e+02, 2.9930e+01],\n",
              "       [1.7004e-01, 1.2500e+01, 7.8700e+00, 0.0000e+00, 5.2400e-01,\n",
              "        6.0040e+00, 8.5900e+01, 6.5921e+00, 5.0000e+00, 3.1100e+02,\n",
              "        1.5200e+01, 3.8671e+02, 1.7100e+01]])"
            ]
          },
          "metadata": {},
          "execution_count": 155
        }
      ]
    },
    {
      "cell_type": "code",
      "metadata": {
        "id": "75Jufw6Ru5qn",
        "outputId": "82bbca9d-ca1b-47b5-ef13-0b191e91d1bd",
        "colab": {
          "base_uri": "https://localhost:8080/"
        }
      },
      "source": [
        "dataset['feature_names']"
      ],
      "execution_count": 156,
      "outputs": [
        {
          "output_type": "execute_result",
          "data": {
            "text/plain": [
              "array(['CRIM', 'ZN', 'INDUS', 'CHAS', 'NOX', 'RM', 'AGE', 'DIS', 'RAD',\n",
              "       'TAX', 'PTRATIO', 'B', 'LSTAT'], dtype='<U7')"
            ]
          },
          "metadata": {},
          "execution_count": 156
        }
      ]
    },
    {
      "cell_type": "code",
      "metadata": {
        "id": "LkrWnw3nu5qu",
        "outputId": "a8612a38-762c-41d9-b0c8-7d0a35303141",
        "colab": {
          "base_uri": "https://localhost:8080/"
        }
      },
      "source": [
        "print(dataset['DESCR'])"
      ],
      "execution_count": 157,
      "outputs": [
        {
          "output_type": "stream",
          "name": "stdout",
          "text": [
            ".. _boston_dataset:\n",
            "\n",
            "Boston house prices dataset\n",
            "---------------------------\n",
            "\n",
            "**Data Set Characteristics:**  \n",
            "\n",
            "    :Number of Instances: 506 \n",
            "\n",
            "    :Number of Attributes: 13 numeric/categorical predictive. Median Value (attribute 14) is usually the target.\n",
            "\n",
            "    :Attribute Information (in order):\n",
            "        - CRIM     per capita crime rate by town\n",
            "        - ZN       proportion of residential land zoned for lots over 25,000 sq.ft.\n",
            "        - INDUS    proportion of non-retail business acres per town\n",
            "        - CHAS     Charles River dummy variable (= 1 if tract bounds river; 0 otherwise)\n",
            "        - NOX      nitric oxides concentration (parts per 10 million)\n",
            "        - RM       average number of rooms per dwelling\n",
            "        - AGE      proportion of owner-occupied units built prior to 1940\n",
            "        - DIS      weighted distances to five Boston employment centres\n",
            "        - RAD      index of accessibility to radial highways\n",
            "        - TAX      full-value property-tax rate per $10,000\n",
            "        - PTRATIO  pupil-teacher ratio by town\n",
            "        - B        1000(Bk - 0.63)^2 where Bk is the proportion of black people by town\n",
            "        - LSTAT    % lower status of the population\n",
            "        - MEDV     Median value of owner-occupied homes in $1000's\n",
            "\n",
            "    :Missing Attribute Values: None\n",
            "\n",
            "    :Creator: Harrison, D. and Rubinfeld, D.L.\n",
            "\n",
            "This is a copy of UCI ML housing dataset.\n",
            "https://archive.ics.uci.edu/ml/machine-learning-databases/housing/\n",
            "\n",
            "\n",
            "This dataset was taken from the StatLib library which is maintained at Carnegie Mellon University.\n",
            "\n",
            "The Boston house-price data of Harrison, D. and Rubinfeld, D.L. 'Hedonic\n",
            "prices and the demand for clean air', J. Environ. Economics & Management,\n",
            "vol.5, 81-102, 1978.   Used in Belsley, Kuh & Welsch, 'Regression diagnostics\n",
            "...', Wiley, 1980.   N.B. Various transformations are used in the table on\n",
            "pages 244-261 of the latter.\n",
            "\n",
            "The Boston house-price data has been used in many machine learning papers that address regression\n",
            "problems.   \n",
            "     \n",
            ".. topic:: References\n",
            "\n",
            "   - Belsley, Kuh & Welsch, 'Regression diagnostics: Identifying Influential Data and Sources of Collinearity', Wiley, 1980. 244-261.\n",
            "   - Quinlan,R. (1993). Combining Instance-Based and Model-Based Learning. In Proceedings on the Tenth International Conference of Machine Learning, 236-243, University of Massachusetts, Amherst. Morgan Kaufmann.\n",
            "\n"
          ]
        }
      ]
    },
    {
      "cell_type": "markdown",
      "metadata": {
        "id": "Jk3U9ixpu5q1"
      },
      "source": [
        "Хочется научиться предсказывать функцию цены квартиры. Предположительно, она зависит как-то от этих признаков."
      ]
    },
    {
      "cell_type": "code",
      "metadata": {
        "id": "IiRlvgpRu5q3",
        "outputId": "e963dc8c-9071-452a-fba3-06a8d35b4a2b",
        "colab": {
          "base_uri": "https://localhost:8080/"
        }
      },
      "source": [
        "y = dataset['target']\n",
        "y[:10]"
      ],
      "execution_count": 158,
      "outputs": [
        {
          "output_type": "execute_result",
          "data": {
            "text/plain": [
              "array([24. , 21.6, 34.7, 33.4, 36.2, 28.7, 22.9, 27.1, 16.5, 18.9])"
            ]
          },
          "metadata": {},
          "execution_count": 158
        }
      ]
    },
    {
      "cell_type": "markdown",
      "metadata": {
        "id": "ZOa7_r4Tu5q_"
      },
      "source": [
        "### (1 балл) Разделите данные на тренировочную и тестовую части.\n",
        "\n",
        "Тестовая часть должна составлять 10% выборки.\n"
      ]
    },
    {
      "cell_type": "code",
      "metadata": {
        "id": "mgUs1nPIu5rA"
      },
      "source": [
        "from sklearn.model_selection import train_test_split\n",
        "\n",
        "# фиксирую random_state, чтобы результаты воспроизвелись при проверке\n",
        "X_train, X_test, y_train, y_test = train_test_split(X, y, test_size=0.1,\n",
        "                                                    random_state=42)"
      ],
      "execution_count": 159,
      "outputs": []
    },
    {
      "cell_type": "markdown",
      "metadata": {
        "id": "krV_juMIu5rE"
      },
      "source": [
        "### (1 балл) Обучение и применение модели\n",
        "Обучите модель линейной регрессии на тренировочной части и предскажите результаты на тестовой части.\n",
        "\n"
      ]
    },
    {
      "cell_type": "code",
      "metadata": {
        "id": "2Jm32qLMu5rG"
      },
      "source": [
        "from sklearn.linear_model import LinearRegression\n",
        "\n",
        "\n",
        "model = LinearRegression()\n",
        "model = model.fit(X_train, y_train)"
      ],
      "execution_count": 160,
      "outputs": []
    },
    {
      "cell_type": "code",
      "metadata": {
        "id": "Fy-BCb2qu5rL"
      },
      "source": [
        "y_pred = model.predict(X_test)"
      ],
      "execution_count": 161,
      "outputs": []
    },
    {
      "cell_type": "markdown",
      "metadata": {
        "id": "XDeX09VWu5rQ"
      },
      "source": [
        "### (2 балл) Валидация результата\n",
        "\n",
        "Напишите свою функцию MSE, убедитесь, что она совпадает с реализацией из sklearn и посчитайте своей результат на тестовой части."
      ]
    },
    {
      "cell_type": "code",
      "metadata": {
        "id": "HAES_JkYu5rR"
      },
      "source": [
        "from sklearn.metrics import mean_squared_error\n",
        "def MSE(y_real, y_pred):\n",
        "    return ((y_real - y_pred) ** 2).mean()"
      ],
      "execution_count": 162,
      "outputs": []
    },
    {
      "cell_type": "code",
      "metadata": {
        "id": "pFMWm9pYu5rV",
        "colab": {
          "base_uri": "https://localhost:8080/"
        },
        "outputId": "5d299db0-fdcc-4b1b-c0aa-0041c2d8ec87"
      },
      "source": [
        "print(f'MSE (sklearn): {mean_squared_error(y_test, y_pred)}')\n",
        "print(f'MSE (defined): {MSE(y_test, y_pred)}')"
      ],
      "execution_count": 163,
      "outputs": [
        {
          "output_type": "stream",
          "name": "stdout",
          "text": [
            "MSE (sklearn): 14.995852876582541\n",
            "MSE (defined): 14.995852876582541\n"
          ]
        }
      ]
    },
    {
      "cell_type": "code",
      "source": [
        "# сохраним на попозже\n",
        "no_l2_result = MSE(y_test, y_pred)"
      ],
      "metadata": {
        "id": "dIBQRZ7ePooD"
      },
      "execution_count": 164,
      "outputs": []
    },
    {
      "cell_type": "markdown",
      "metadata": {
        "id": "eYQjX7TJu5rZ"
      },
      "source": [
        "Насколько хорошо вы предсказали цену? Сравните с наивным алгоритмом (предсказать среднюю цену на тренировочной части вне зависимости от признаков)."
      ]
    },
    {
      "cell_type": "code",
      "metadata": {
        "id": "7tc7bt-ju5ra"
      },
      "source": [
        "def super_puper_estimator(y_train):\n",
        "    return y_train.mean()"
      ],
      "execution_count": 165,
      "outputs": []
    },
    {
      "cell_type": "code",
      "metadata": {
        "id": "aWk1sHAIu5rf",
        "colab": {
          "base_uri": "https://localhost:8080/"
        },
        "outputId": "e2be9e16-3f21-40c1-f135-4dfb2782d39e"
      },
      "source": [
        "y_cringe = super_puper_estimator(y_train)\n",
        "print(f'avg linreg fan: {MSE(y_test, y_pred)}')\n",
        "print(f'avg mean target enjoyer: {MSE(y_cringe, y_test)}')"
      ],
      "execution_count": 166,
      "outputs": [
        {
          "output_type": "stream",
          "name": "stdout",
          "text": [
            "avg linreg fan: 14.995852876582541\n",
            "avg mean target enjoyer: 65.00802631111615\n"
          ]
        }
      ]
    },
    {
      "cell_type": "markdown",
      "metadata": {
        "id": "V0IP6MObu5rj"
      },
      "source": [
        "### (2 балла) Улучшите результат.\n",
        "\n",
        "Возможно, происходит переобучение, попробуйте применить регуляризацию, чтобы улучшить результат (то есть используйте Ridge вместо LinearRegression).\n",
        "\n",
        "Нарисуйте график зависимости MSE от коэффициента регуляризации."
      ]
    },
    {
      "cell_type": "code",
      "metadata": {
        "id": "j6_FJvpWu5rk",
        "colab": {
          "base_uri": "https://localhost:8080/",
          "height": 268
        },
        "outputId": "8c7e795d-7f88-46db-921c-cce2a5303a77"
      },
      "source": [
        "from sklearn.linear_model import Ridge\n",
        "\n",
        "\n",
        "lambda_errors = list()\n",
        "lambdas = np.arange(0, 10, 0.1)\n",
        "minimal_error = 999999999999\n",
        "optimal_lambda = 0\n",
        "\n",
        "for lambda_value in lambdas:\n",
        "    trial_model = Ridge(alpha=lambda_value)\n",
        "    trial_model = trial_model.fit(X_train, y_train)\n",
        "    y_pred = trial_model.predict(X_test)\n",
        "    error = MSE(y_pred, y_test)\n",
        "    lambda_errors.append(error)\n",
        "    if minimal_error > error:\n",
        "        minimal_error = error\n",
        "        optimal_lambda = lambda_value\n",
        "\n",
        "plt.plot(lambdas, lambda_errors)\n",
        "plt.show()"
      ],
      "execution_count": 169,
      "outputs": [
        {
          "output_type": "display_data",
          "data": {
            "text/plain": [
              "<Figure size 432x288 with 1 Axes>"
            ],
            "image/png": "[encoded data removed]"
          },
          "metadata": {
            "needs_background": "light"
          }
        }
      ]
    },
    {
      "cell_type": "markdown",
      "metadata": {
        "id": "EXvkpimau5rn"
      },
      "source": [
        "Помогает ли регуляризация? Какой коэффициент регуляризации надо выбрать, чтобы ошибка была минимальной? Чему при этом равна ошибка? Напишите выводы о проведенных экспериментах"
      ]
    },
    {
      "cell_type": "code",
      "metadata": {
        "id": "EkiNXk1Qu5rp",
        "colab": {
          "base_uri": "https://localhost:8080/"
        },
        "outputId": "7858f994-9300-4748-cfc4-0f14f2735e69"
      },
      "source": [
        "print(f'Оптимальный коэффициент: {optimal_lambda}')\n",
        "print(f'Минимум ошибки: {minimal_error}')\n",
        "print(f'Разница с LinearRegression: {no_l2_result - minimal_error}')"
      ],
      "execution_count": 170,
      "outputs": [
        {
          "output_type": "stream",
          "name": "stdout",
          "text": [
            "Оптимальный коэффициент: 1.1\n",
            "Минимум ошибки: 14.775296466176151\n",
            "Разница с LinearRegression: 0.22055641040638996\n"
          ]
        }
      ]
    },
    {
      "cell_type": "markdown",
      "source": [
        "Регуляризация не очень сильно помогла **в данном случае**: средний квадрат ошибки упал на 0.22 в сравнении с моделью без регуляризации. Тем не менее, если не фиксировать random_state, можно от испытания к испытанию в зависимости от случайного разбиения на трейн и тест видеть разные ситуации: где-то изначально небольшой квадрат ошибки почти не уменьшается, а где-то он изначально большой, но сильно падает при применении огромного коэффициента (в одном из испытаний был 318). Отсюда видно, что от разбиения данных зависит и подверженность переобучению."
      ],
      "metadata": {
        "id": "ja7TR_f8PZT5"
      }
    }
  ]
}